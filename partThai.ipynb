{
 "cells": [
  {
   "cell_type": "code",
   "execution_count": 3,
   "metadata": {},
   "outputs": [],
   "source": [
    "import numpy as np\n",
    "import pandas as pd\n",
    "import matplotlib.pyplot as plt\n",
    "import csv\n",
    "import IPython.display as ipd\n",
    "import statsmodels.api as stm\n",
    "%matplotlib inline\n",
    "plt.rcParams['figure.figsize'] = (9,7)\n",
    "from sklearn import preprocessing"
   ]
  },
  {
   "cell_type": "code",
   "execution_count": 5,
   "metadata": {},
   "outputs": [],
   "source": [
    "from sklearn.cross_validation import train_test_split\n",
    "from sklearn.linear_model import LinearRegression\n",
    "from sklearn.metrics import confusion_matrix, accuracy_score, precision_score, classification_report\n",
    "from sklearn.preprocessing import StandardScaler\n",
    "from sklearn.svm import SVR\n",
    "from sklearn import metrics "
   ]
  },
  {
   "cell_type": "markdown",
   "metadata": {},
   "source": [
    "# Input Data #"
   ]
  },
  {
   "cell_type": "code",
   "execution_count": 32,
   "metadata": {},
   "outputs": [],
   "source": [
    "class dataTh:\n",
    "    \n",
    "    def __init__ (self,csvfile):\n",
    "        self.csvfile = csvfile\n",
    "    \n",
    "    def All(self):\n",
    "        data = pd.read_csv(self.csvfile)\n",
    "        data_all = data.iloc[:,6:34].values\n",
    "        return data_all\n",
    "    \n",
    "    def noPitch(self):\n",
    "        data = pd.read_csv(self.csvfile)\n",
    "        \n",
    "        # Attribute names in .csv file\n",
    "        data_noPitch = data[['Dynamic','Tempo','Chroma_mean[1]','Chroma_mean[2]',\n",
    "                             'Chroma_mean[3]','Chroma_mean[4]','Chroma_mean[5]' ,\n",
    "                             'Chroma_mean[6]','Chroma_mean[7]','Chroma_mean[8]',\n",
    "                             'Chroma_mean[9]','Chroma_mean[10]','Chroma_mean[11]',\n",
    "                             'Chroma_mean[12]','Mfccs[1]','Mfccs[2]','Mfccs[3]',\n",
    "                             'Mfccs[4]','Mfccs[5]','Mfccs[6]','Mfccs[7]','Mfccs[8]',\n",
    "                             'Mfccs[9]','Mfccs[10]','Mfccs[11]','Mfccs[12]','Mfccs[13]']] \n",
    "        data_noPitch = data_noPitch.iloc[:,:].values        \n",
    "        return data_noPitch\n",
    "    \n",
    "    def noTempo(self):\n",
    "        data = pd.read_csv(self.csvfile)\n",
    "        data_noTempo = data[['Pitch','Dynamic','Chroma_mean[1]','Chroma_mean[2]',\n",
    "                             'Chroma_mean[3]','Chroma_mean[4]','Chroma_mean[5]' ,\n",
    "                             'Chroma_mean[6]','Chroma_mean[7]','Chroma_mean[8]',\n",
    "                             'Chroma_mean[9]','Chroma_mean[10]','Chroma_mean[11]',\n",
    "                             'Chroma_mean[12]','Mfccs[1]','Mfccs[2]','Mfccs[3]',\n",
    "                             'Mfccs[4]','Mfccs[5]','Mfccs[6]','Mfccs[7]','Mfccs[8]',\n",
    "                             'Mfccs[9]','Mfccs[10]','Mfccs[11]','Mfccs[12]','Mfccs[13]']]\n",
    "        data_noTempo = data_noTempo.iloc[:,:].values\n",
    "        return data_noTempo\n",
    "        \n",
    "    def noPitchTempo(self):\n",
    "        data = pd.read_csv(self.csvfile)\n",
    "        data_noPitchTempo =  data[['Dynamic','Chroma_mean[1]','Chroma_mean[2]',\n",
    "                             'Chroma_mean[3]','Chroma_mean[4]','Chroma_mean[5]' ,\n",
    "                             'Chroma_mean[6]','Chroma_mean[7]','Chroma_mean[8]',\n",
    "                             'Chroma_mean[9]','Chroma_mean[10]','Chroma_mean[11]',\n",
    "                             'Chroma_mean[12]','Mfccs[1]','Mfccs[2]','Mfccs[3]',\n",
    "                             'Mfccs[4]','Mfccs[5]','Mfccs[6]','Mfccs[7]','Mfccs[8]',\n",
    "                             'Mfccs[9]','Mfccs[10]','Mfccs[11]','Mfccs[12]','Mfccs[13]']]  \n",
    "        data_noPitchTempo = data_noPitchTempo.iloc[:,:].values\n",
    "        return data_noPitchTempo\n",
    "    \n",
    "    def noAll(self):\n",
    "        data = pd.read_csv(self.csvfile)\n",
    "        data_noAll = data[['Chroma_mean[1]','Chroma_mean[2]','Chroma_mean[3]',\n",
    "                           'Chroma_mean[4]','Chroma_mean[5]','Chroma_mean[6]',\n",
    "                           'Chroma_mean[7]','Chroma_mean[8]','Chroma_mean[9]',\n",
    "                           'Chroma_mean[10]','Chroma_mean[11]','Chroma_mean[12]',\n",
    "                           'Mfccs[1]','Mfccs[2]','Mfccs[3]','Mfccs[4]','Mfccs[5]',\n",
    "                           'Mfccs[6]','Mfccs[7]','Mfccs[8]','Mfccs[9]','Mfccs[10]',\n",
    "                           'Mfccs[11]','Mfccs[12]','Mfccs[13]']]   \n",
    "        data_noAll = data_noAll.iloc[:,:].values\n",
    "        return data_noAll\n",
    "        \n",
    "    def valenceSpotify(self):\n",
    "        data = pd.read_csv(self.csvfile)\n",
    "        data_valence = data.iloc[:,-31].values\n",
    "        return data_valence\n",
    "    \n",
    "    def arousalSpotify(self):\n",
    "        data = pd.read_csv(self.csvfile)\n",
    "        data_arousal = data.iloc[:,-30].values\n",
    "        return data_arousal\n",
    "    \n",
    "    def emotionSpotify(self):\n",
    "        data = pd.read_csv(self.csvfile)\n",
    "        data_emotion = data.iloc[:,-29].values\n",
    "        return data_emotion\n"
   ]
  },
  {
   "cell_type": "code",
   "execution_count": 44,
   "metadata": {},
   "outputs": [],
   "source": [
    "data_test = pd.read_csv('C:\\\\Users\\\\TEMP\\\\Anaconda2\\\\Project_Master/Thesis_/Data_Thai.csv')"
   ]
  },
  {
   "cell_type": "markdown",
   "metadata": {},
   "source": [
    "# Plot Valence-Arousal : Feature"
   ]
  },
  {
   "cell_type": "code",
   "execution_count": 48,
   "metadata": {},
   "outputs": [
    {
     "data": {
      "text/plain": [
       "array([<matplotlib.axes._subplots.AxesSubplot object at 0x00000000183735F8>],\n",
       "      dtype=object)"
      ]
     },
     "execution_count": 48,
     "metadata": {},
     "output_type": "execute_result"
    },
    {
     "data": {
      "image/png": "[encoded data removed]",
      "text/plain": [
       "<matplotlib.figure.Figure at 0x17ff74a8>"
      ]
     },
     "metadata": {},
     "output_type": "display_data"
    }
   ],
   "source": [
    "fig, axes = plt.subplots(nrows = 2, ncols = 2,figsize=(12, 10))\n",
    "data_test.plot(x = 'Valence_Spotify',y = 'Dynamic',kind = 'scatter',\n",
    "               style='^',grid='True',subplots = True,ax = axes[0,0],sharey = True)\n",
    "data_test.plot(x = 'Arousal_Spotify',y = 'Dynamic',kind = 'scatter',\n",
    "               style='^',grid='True',subplots = True,ax = axes[0,1],sharex = True)\n",
    "data_test.plot(x = 'Valence_Spotify',y = 'Pitch',kind = 'scatter',\n",
    "               style='^',grid='True',subplots = True,ax = axes[1,0])\n",
    "data_test.plot(x = 'Arousal_Spotify',y = 'Pitch',kind = 'scatter',\n",
    "               style='^',grid='True',subplots = True,ax = axes[1,1])"
   ]
  },
  {
   "cell_type": "markdown",
   "metadata": {},
   "source": [
    "# Start #"
   ]
  },
  {
   "cell_type": "code",
   "execution_count": 33,
   "metadata": {},
   "outputs": [],
   "source": [
    "dataTh = dataTh('C:\\\\Users\\\\TEMP\\\\Anaconda2\\\\Project_Master/Thesis_/Data_Thai.csv')"
   ]
  },
  {
   "cell_type": "code",
   "execution_count": 34,
   "metadata": {},
   "outputs": [
    {
     "data": {
      "text/plain": [
       "array([0.923, 0.827, 0.727, 0.388, 0.728, 0.371, 0.536, 0.645, 0.309,\n",
       "       0.404, 0.658, 0.203, 0.464, 0.201, 0.404, 0.355, 0.399, 0.271,\n",
       "       0.346, 0.42 , 0.128, 0.5  , 0.337, 0.525, 0.696, 0.34 , 0.533,\n",
       "       0.704, 0.71 , 0.399, 0.494, 0.743, 0.356, 0.742, 0.544, 0.564,\n",
       "       0.392, 0.577, 0.184, 0.28 , 0.82 , 0.422, 0.564, 0.39 , 0.68 ,\n",
       "       0.545, 0.668, 0.754, 0.557, 0.493, 0.72 , 0.441, 0.395, 0.31 ,\n",
       "       0.403, 0.584, 0.418, 0.309, 0.474, 0.827, 0.41 , 0.796, 0.777,\n",
       "       0.817, 0.634, 0.482, 0.32 , 0.345, 0.877, 0.196, 0.196, 0.652,\n",
       "       0.715, 0.751, 0.529, 0.57 , 0.259, 0.933, 0.659, 0.677, 0.734,\n",
       "       0.593, 0.628, 0.555, 0.517, 0.327, 0.427, 0.223, 0.865, 0.96 ,\n",
       "       0.412, 0.371, 0.843, 0.302, 0.449, 0.768, 0.617, 0.887, 0.508,\n",
       "       0.777, 0.357, 0.837, 0.797, 0.755, 0.701, 0.542, 0.492, 0.435,\n",
       "       0.351, 0.758, 0.941, 0.418, 0.452, 0.418, 0.208, 0.727, 0.347,\n",
       "       0.773, 0.818, 0.636, 0.29 , 0.701, 0.316, 0.73 , 0.748, 0.709,\n",
       "       0.905, 0.497, 0.92 , 0.465, 0.291, 0.398, 0.355, 0.261, 0.471,\n",
       "       0.15 , 0.371, 0.26 , 0.231, 0.201, 0.386, 0.29 , 0.578, 0.967,\n",
       "       0.809, 0.674, 0.736, 0.396, 0.888, 0.58 , 0.438, 0.409, 0.301,\n",
       "       0.326, 0.395])"
      ]
     },
     "execution_count": 34,
     "metadata": {},
     "output_type": "execute_result"
    }
   ],
   "source": [
    "dataTh.valenceSpotify()"
   ]
  },
  {
   "cell_type": "markdown",
   "metadata": {},
   "source": [
    "# Split train and test set #"
   ]
  },
  {
   "cell_type": "code",
   "execution_count": 6,
   "metadata": {},
   "outputs": [],
   "source": [
    "x_train_valence,x_test_valence,y_train_valence,y_test_valence = train_test_split(dataTh.noTempo(), \n",
    "                                                                                 dataTh.valenceSpotify(),\n",
    "                                                                                 test_size = 0.2,random_state = 0)\n",
    "\n",
    "x_train_arousal,x_test_arousal,y_train_arousal,y_test_arousal = train_test_split(dataTh.noTempo(),\n",
    "                                                                                 dataTh.arousalSpotify(),\n",
    "                                                                                 test_size = 0.2,random_state = 0)\n",
    "x_train_emo,x_test_emo,y_train_emo,y_test_emo = train_test_split(dataTh.noTempo(), \n",
    "                                                                 dataTh.emotionSpotify(),\n",
    "                                                                 test_size = 0.2,random_state = 0)"
   ]
  },
  {
   "cell_type": "markdown",
   "metadata": {},
   "source": [
    "# Multiple Linear Regression #"
   ]
  },
  {
   "cell_type": "code",
   "execution_count": 7,
   "metadata": {},
   "outputs": [],
   "source": [
    "class multiRegression:\n",
    "    \n",
    "    def __init__(self,x_train,y_train,x_test,y_test):\n",
    "        self.x_train = x_train\n",
    "        self.y_train = y_train\n",
    "        self.x_test = x_test\n",
    "        self.y_test = y_test\n",
    "    \n",
    "    def findVA(self):\n",
    "        regressor = LinearRegression()\n",
    "        regressor.fit(self.x_train,self.y_train)\n",
    "        y_pred = regressor.predict(self.x_test)\n",
    "        \n",
    "        X1 = stm.add_constant(self.x_train)\n",
    "        result = stm.OLS(self.y_train, X1).fit()\n",
    "        \n",
    "\n",
    "        print(result.summary())\n",
    "        return y_pred\n",
    "   \n",
    "        "
   ]
  },
  {
   "cell_type": "markdown",
   "metadata": {},
   "source": [
    "# Run Multiple Linear Regression #"
   ]
  },
  {
   "cell_type": "code",
   "execution_count": 8,
   "metadata": {},
   "outputs": [],
   "source": [
    "mlr_valence = multiRegression(x_train_valence,y_train_valence,x_test_valence,y_test_valence)\n",
    "mlr_arousal = multiRegression(x_train_arousal,y_train_arousal,x_test_arousal,y_test_arousal)"
   ]
  },
  {
   "cell_type": "markdown",
   "metadata": {},
   "source": [
    "# Read & Save CSV #"
   ]
  },
  {
   "cell_type": "code",
   "execution_count": 9,
   "metadata": {},
   "outputs": [],
   "source": [
    "class partCSV:\n",
    "    \n",
    "    def __init__(self,csvname,valence,arousal):\n",
    "        self.csvname = csvname\n",
    "        self.valence = valence\n",
    "        self.arousal = arousal\n",
    "    \n",
    "    def saveCSV(self):\n",
    "        with open(self.csvname,'wb') as th :\n",
    "            th = csv.writer(th)\n",
    "            th.writerow(['Valence','Arousal'])\n",
    "            th.writerows(zip(self.valence,self.arousal))\n",
    "        \n",
    "    def readCSV(self):\n",
    "        data = pd.read_csv(self.csvname)\n",
    "        csv_data = data.iloc[:,:].values\n",
    "    \n",
    "        return csv_data     \n",
    "    "
   ]
  },
  {
   "cell_type": "markdown",
   "metadata": {},
   "source": [
    "# Run CSV Part #\n",
    "\n",
    "#### - R-squared "
   ]
  },
  {
   "cell_type": "code",
   "execution_count": 34,
   "metadata": {},
   "outputs": [
    {
     "name": "stdout",
     "output_type": "stream",
     "text": [
      "                            OLS Regression Results                            \n",
      "==============================================================================\n",
      "Dep. Variable:                      y   R-squared:                       0.378\n",
      "Model:                            OLS   Adj. R-squared:                  0.203\n",
      "Method:                 Least Squares   F-statistic:                     2.163\n",
      "Date:                Sat, 11 Aug 2018   Prob (F-statistic):            0.00330\n",
      "Time:                        22:07:00   Log-Likelihood:                 49.176\n",
      "No. Observations:                 124   AIC:                            -42.35\n",
      "Df Residuals:                      96   BIC:                             36.62\n",
      "Df Model:                          27                                         \n",
      "Covariance Type:            nonrobust                                         \n",
      "==============================================================================\n",
      "                 coef    std err          t      P>|t|      [0.025      0.975]\n",
      "------------------------------------------------------------------------------\n",
      "const          0.2831      0.297      0.954      0.342      -0.306       0.872\n",
      "x1             0.0001      0.000      1.251      0.214   -7.94e-05       0.000\n",
      "x2            -0.3101      0.411     -0.755      0.452      -1.125       0.505\n",
      "x3             0.0815      0.317      0.257      0.798      -0.549       0.712\n",
      "x4             0.3052      0.364      0.839      0.403      -0.417       1.027\n",
      "x5             0.2304      0.285      0.808      0.421      -0.336       0.797\n",
      "x6             0.0901      0.317      0.284      0.777      -0.540       0.720\n",
      "x7            -0.2089      0.282     -0.740      0.461      -0.769       0.351\n",
      "x8             0.5716      0.377      1.517      0.133      -0.176       1.320\n",
      "x9            -0.0855      0.309     -0.277      0.782      -0.699       0.528\n",
      "x10           -0.0673      0.320     -0.211      0.834      -0.702       0.568\n",
      "x11           -0.0040      0.390     -0.010      0.992      -0.777       0.769\n",
      "x12            0.3522      0.266      1.325      0.188      -0.176       0.880\n",
      "x13           -0.2539      0.297     -0.854      0.395      -0.844       0.336\n",
      "x14            0.3655      0.292      1.253      0.213      -0.214       0.945\n",
      "x15           -0.0004      0.001     -0.706      0.482      -0.001       0.001\n",
      "x16           -0.0034      0.001     -2.305      0.023      -0.006      -0.000\n",
      "x17           -0.0011      0.002     -0.616      0.539      -0.005       0.003\n",
      "x18           -0.0006      0.002     -0.276      0.783      -0.005       0.004\n",
      "x19           -0.0024      0.004     -0.534      0.594      -0.011       0.006\n",
      "x20            0.0027      0.005      0.508      0.613      -0.008       0.013\n",
      "x21            0.0031      0.005      0.649      0.518      -0.006       0.012\n",
      "x22            0.0039      0.007      0.573      0.568      -0.010       0.017\n",
      "x23           -0.0084      0.005     -1.665      0.099      -0.018       0.002\n",
      "x24            0.0080      0.006      1.376      0.172      -0.004       0.020\n",
      "x25            0.0024      0.007      0.337      0.737      -0.012       0.017\n",
      "x26           -0.0134      0.007     -2.002      0.048      -0.027      -0.000\n",
      "x27           -0.0111      0.010     -1.129      0.262      -0.031       0.008\n",
      "==============================================================================\n",
      "Omnibus:                        1.629   Durbin-Watson:                   1.759\n",
      "Prob(Omnibus):                  0.443   Jarque-Bera (JB):                1.369\n",
      "Skew:                           0.083   Prob(JB):                        0.504\n",
      "Kurtosis:                       2.513   Cond. No.                     1.12e+04\n",
      "==============================================================================\n",
      "\n",
      "Warnings:\n",
      "[1] Standard Errors assume that the covariance matrix of the errors is correctly specified.\n",
      "[2] The condition number is large, 1.12e+04. This might indicate that there are\n",
      "strong multicollinearity or other numerical problems.\n",
      "                            OLS Regression Results                            \n",
      "==============================================================================\n",
      "Dep. Variable:                      y   R-squared:                       0.672\n",
      "Model:                            OLS   Adj. R-squared:                  0.580\n",
      "Method:                 Least Squares   F-statistic:                     7.280\n",
      "Date:                Sat, 11 Aug 2018   Prob (F-statistic):           1.42e-13\n",
      "Time:                        22:07:00   Log-Likelihood:                 133.05\n",
      "No. Observations:                 124   AIC:                            -210.1\n",
      "Df Residuals:                      96   BIC:                            -131.1\n",
      "Df Model:                          27                                         \n",
      "Covariance Type:            nonrobust                                         \n",
      "==============================================================================\n",
      "                 coef    std err          t      P>|t|      [0.025      0.975]\n",
      "------------------------------------------------------------------------------\n",
      "const          0.6989      0.151      4.634      0.000       0.400       0.998\n",
      "x1          2.953e-06    5.5e-05      0.054      0.957      -0.000       0.000\n",
      "x2             0.0134      0.209      0.064      0.949      -0.401       0.428\n",
      "x3             0.0287      0.161      0.178      0.859      -0.292       0.349\n",
      "x4            -0.0762      0.185     -0.412      0.681      -0.443       0.291\n",
      "x5             0.1756      0.145      1.211      0.229      -0.112       0.463\n",
      "x6            -0.1856      0.161     -1.150      0.253      -0.506       0.135\n",
      "x7             0.0296      0.143      0.206      0.837      -0.255       0.314\n",
      "x8             0.2143      0.192      1.119      0.266      -0.166       0.595\n",
      "x9             0.1871      0.157      1.192      0.236      -0.125       0.499\n",
      "x10           -0.0460      0.163     -0.283      0.778      -0.369       0.277\n",
      "x11            0.2178      0.198      1.100      0.274      -0.175       0.611\n",
      "x12            0.0015      0.135      0.011      0.991      -0.267       0.270\n",
      "x13            0.0024      0.151      0.016      0.988      -0.298       0.302\n",
      "x14           -0.0073      0.148     -0.049      0.961      -0.302       0.287\n",
      "x15            0.0007      0.000      2.662      0.009       0.000       0.001\n",
      "x16           -0.0018      0.001     -2.467      0.015      -0.003      -0.000\n",
      "x17           -0.0039      0.001     -4.197      0.000      -0.006      -0.002\n",
      "x18           -0.0010      0.001     -0.822      0.413      -0.003       0.001\n",
      "x19        -7.525e-06      0.002     -0.003      0.997      -0.005       0.005\n",
      "x20            0.0026      0.003      0.936      0.352      -0.003       0.008\n",
      "x21           -0.0023      0.002     -0.978      0.331      -0.007       0.002\n",
      "x22         6.525e-05      0.003      0.019      0.985      -0.007       0.007\n",
      "x23           -0.0021      0.003     -0.797      0.428      -0.007       0.003\n",
      "x24            0.0009      0.003      0.289      0.773      -0.005       0.007\n",
      "x25            0.0006      0.004      0.168      0.867      -0.007       0.008\n",
      "x26           -0.0014      0.003     -0.400      0.690      -0.008       0.005\n",
      "x27         7.534e-05      0.005      0.015      0.988      -0.010       0.010\n",
      "==============================================================================\n",
      "Omnibus:                        7.124   Durbin-Watson:                   2.275\n",
      "Prob(Omnibus):                  0.028   Jarque-Bera (JB):                7.044\n",
      "Skew:                          -0.451   Prob(JB):                       0.0295\n",
      "Kurtosis:                       3.741   Cond. No.                     1.12e+04\n",
      "==============================================================================\n",
      "\n",
      "Warnings:\n",
      "[1] Standard Errors assume that the covariance matrix of the errors is correctly specified.\n",
      "[2] The condition number is large, 1.12e+04. This might indicate that there are\n",
      "strong multicollinearity or other numerical problems.\n"
     ]
    }
   ],
   "source": [
    "VA_values = partCSV('VA_thai_noTempo.csv',mlr_valence.findVA(),mlr_arousal.findVA())"
   ]
  },
  {
   "cell_type": "code",
   "execution_count": 35,
   "metadata": {},
   "outputs": [
    {
     "data": {
      "text/plain": [
       "array([[0.4603649 , 0.50116348],\n",
       "       [0.60999289, 0.69101808],\n",
       "       [0.41644456, 0.6452054 ],\n",
       "       [0.6029588 , 0.68017653],\n",
       "       [0.60177213, 0.68957894],\n",
       "       [0.73951923, 0.7848694 ],\n",
       "       [0.56298913, 0.56851348],\n",
       "       [0.50897122, 0.74057335],\n",
       "       [0.45707498, 0.59240996],\n",
       "       [0.57151633, 0.77222199],\n",
       "       [0.58204025, 0.78801849],\n",
       "       [0.46506084, 0.69784331],\n",
       "       [0.39478882, 0.65798591],\n",
       "       [0.49430781, 0.71626957],\n",
       "       [0.63728483, 0.77576847],\n",
       "       [0.53355006, 0.66815315],\n",
       "       [0.63917206, 0.75037331],\n",
       "       [0.44660321, 0.76022236],\n",
       "       [0.67810235, 0.85037223],\n",
       "       [0.88144225, 0.73816408],\n",
       "       [0.57897997, 0.55106651],\n",
       "       [0.4026805 , 0.47808801],\n",
       "       [0.46602938, 0.66256087],\n",
       "       [0.48766517, 0.64875427],\n",
       "       [0.56764415, 0.61997723],\n",
       "       [0.55747782, 0.81140278],\n",
       "       [0.44672503, 0.7857131 ],\n",
       "       [0.49837414, 0.63110598],\n",
       "       [0.45594203, 0.67596471],\n",
       "       [0.75038856, 0.91164155],\n",
       "       [0.52455266, 0.47226325]])"
      ]
     },
     "execution_count": 35,
     "metadata": {},
     "output_type": "execute_result"
    }
   ],
   "source": [
    "VA_values.saveCSV()\n",
    "VA_values.readCSV()"
   ]
  },
  {
   "cell_type": "markdown",
   "metadata": {},
   "source": [
    "# Emotion Annotations #"
   ]
  },
  {
   "cell_type": "code",
   "execution_count": 36,
   "metadata": {},
   "outputs": [],
   "source": [
    "class annotations:\n",
    "    \n",
    "    def __init__(self,null):\n",
    "        self.null = null\n",
    "    \n",
    "    def findVA(self):\n",
    "        annotations_spotify = []\n",
    "        plt.grid()\n",
    "        \n",
    "        VA = VA_values.readCSV()\n",
    "        for i in range(len(VA)):\n",
    "            value_val_test = VA[:,-2] \n",
    "            value_arou_test = VA[:,-1]\n",
    "            if value_val_test[i] > 0.5 and value_arou_test[i] > 0.5 : # Happy\n",
    "                anno = 'Happy'\n",
    "                happy_plot = plt.scatter(value_val_test[i],value_arou_test[i],\n",
    "                                         color = 'green',label='Happy')\n",
    "            \n",
    "        \n",
    "            elif value_val_test[i] > 0.5 and value_arou_test[i] < 0.5 : # Peaceful\n",
    "                anno = 'Peaceful'\n",
    "                peaceful_plot = plt.scatter(value_val_test[i],value_arou_test[i],\n",
    "                                            color = 'blue',label='Peaceful')\n",
    "                #print ('Peaceful')\n",
    "        \n",
    "            elif value_val_test[i] < 0.5 and value_arou_test[i] > 0.5 : # Angry\n",
    "                anno = 'Excited'\n",
    "                excited_plot = plt.scatter(value_val_test[i],value_arou_test[i],\n",
    "                                           color = 'red',label='Excited')\n",
    "                #print ('Angry')\n",
    "        \n",
    "            elif value_val_test[i] < 0.5 and value_arou_test[i] < 0.5 : # Sad\n",
    "                anno = 'Sad'\n",
    "                sad_plot = plt.scatter(value_val_test[i],value_arou_test[i],\n",
    "                                       color = 'black',label='Sad')\n",
    "                #print ('Sad')\n",
    "        \n",
    "            else :\n",
    "                print ('None')\n",
    "        \n",
    "            annotations_spotify.append(anno)\n",
    "        #plt.legend(handles=[happy_plot,sad_plot],loc=)\n",
    "            plt.xlim(-0.1,1.1)\n",
    "            plt.ylim(-0.1,1.1)\n",
    "            plt.axvline(x=0.5, ymin=0,ymax=1,color = 'black',lw=1)\n",
    "            plt.axhline(y=0.5, xmin=0,xmax=1,color = 'black',lw=1)\n",
    "            #plt.title('VA Model of Thai songs(Spotify)')\n",
    "            plt.xlabel('Valence')\n",
    "            plt.ylabel('Arousal(Energy)')\n",
    "            plt.title('Multiple linear regression')\n",
    "        \n",
    "        return annotations_spotify\n"
   ]
  },
  {
   "cell_type": "code",
   "execution_count": 37,
   "metadata": {},
   "outputs": [
    {
     "data": {
      "text/plain": [
       "['Excited',\n",
       " 'Happy',\n",
       " 'Excited',\n",
       " 'Happy',\n",
       " 'Happy',\n",
       " 'Happy',\n",
       " 'Happy',\n",
       " 'Happy',\n",
       " 'Excited',\n",
       " 'Happy',\n",
       " 'Happy',\n",
       " 'Excited',\n",
       " 'Excited',\n",
       " 'Excited',\n",
       " 'Happy',\n",
       " 'Happy',\n",
       " 'Happy',\n",
       " 'Excited',\n",
       " 'Happy',\n",
       " 'Happy',\n",
       " 'Happy',\n",
       " 'Sad',\n",
       " 'Excited',\n",
       " 'Excited',\n",
       " 'Happy',\n",
       " 'Happy',\n",
       " 'Excited',\n",
       " 'Excited',\n",
       " 'Excited',\n",
       " 'Happy',\n",
       " 'Peaceful']"
      ]
     },
     "execution_count": 37,
     "metadata": {},
     "output_type": "execute_result"
    },
    {
     "data": {
      "image/png": "[encoded data removed]",
      "text/plain": [
       "<matplotlib.figure.Figure at 0x16c09fd0>"
      ]
     },
     "metadata": {},
     "output_type": "display_data"
    }
   ],
   "source": [
    "annotations = annotations(1)\n",
    "annotations.findVA()"
   ]
  },
  {
   "cell_type": "markdown",
   "metadata": {},
   "source": [
    "# Measure Performance #\n",
    "\n",
    "### - Precision, Recall, F-measure, Accuracy"
   ]
  },
  {
   "cell_type": "code",
   "execution_count": 39,
   "metadata": {},
   "outputs": [],
   "source": [
    "def perform_measure(actual,predict):\n",
    "    cm = confusion_matrix(actual,predict)\n",
    "    print (cm)\n",
    "    \n",
    "    accuracy = accuracy_score(actual,predict)*100\n",
    "    print ('Accuracy of our model is equal ' + str(round(accuracy,2)) + '%')\n",
    "    \n",
    "    measure = classification_report(actual,predict)\n",
    "    print (measure)"
   ]
  },
  {
   "cell_type": "code",
   "execution_count": 40,
   "metadata": {},
   "outputs": [
    {
     "name": "stdout",
     "output_type": "stream",
     "text": [
      "[[ 6  4  0  0]\n",
      " [ 4 12  0  0]\n",
      " [ 0  1  0  0]\n",
      " [ 2  0  1  1]]\n",
      "Accuracy of our model is equal 61.29%\n",
      "             precision    recall  f1-score   support\n",
      "\n",
      "    Excited       0.50      0.60      0.55        10\n",
      "      Happy       0.71      0.75      0.73        16\n",
      "   Peaceful       0.00      0.00      0.00         1\n",
      "        Sad       1.00      0.25      0.40         4\n",
      "\n",
      "avg / total       0.65      0.61      0.60        31\n",
      "\n"
     ]
    },
    {
     "data": {
      "image/png": "[encoded data removed]",
      "text/plain": [
       "<matplotlib.figure.Figure at 0x16b9e860>"
      ]
     },
     "metadata": {},
     "output_type": "display_data"
    }
   ],
   "source": [
    "perform_measure(y_test_emo,annotations.findVA())"
   ]
  },
  {
   "cell_type": "markdown",
   "metadata": {},
   "source": [
    "# Support Vector Regression"
   ]
  },
  {
   "cell_type": "code",
   "execution_count": 39,
   "metadata": {},
   "outputs": [],
   "source": [
    "class SVRegression:\n",
    "    def __init__(self,x_train,y_train,x_test,y_test):\n",
    "        self.x_train = x_train\n",
    "        self.y_train = y_train\n",
    "        self.x_test = x_test\n",
    "        self.y_test = y_test\n",
    "        \n",
    "    def findVA(self):\n",
    "        regressor = SVR(kernel = 'linear')\n",
    "        regressor.fit(self.x_train,self.y_train)\n",
    "        y_pred = regressor.predict(self.x_test)\n",
    "\n",
    "        return y_pred\n",
    "    \n",
    "    \n",
    "    "
   ]
  },
  {
   "cell_type": "code",
   "execution_count": 40,
   "metadata": {},
   "outputs": [],
   "source": [
    "svr_valence = SVRegression(x_train_valence,y_train_valence,x_test_valence,y_test_valence)\n",
    "svr_arousal = SVRegression(x_train_arousal,y_train_arousal,x_test_arousal,y_test_arousal)"
   ]
  },
  {
   "cell_type": "code",
   "execution_count": 45,
   "metadata": {},
   "outputs": [
    {
     "data": {
      "text/plain": [
       "array([[0.48640712, 0.47576857],\n",
       "       [0.59100078, 0.71572923],\n",
       "       [0.49509512, 0.63274179],\n",
       "       [0.6196504 , 0.6851969 ],\n",
       "       [0.63438266, 0.68844661],\n",
       "       [0.78294554, 0.73652535],\n",
       "       [0.57184475, 0.60661268],\n",
       "       [0.43335662, 0.71098952],\n",
       "       [0.51738477, 0.58426059],\n",
       "       [0.56606072, 0.77194011],\n",
       "       [0.60546803, 0.77771716],\n",
       "       [0.52581255, 0.68763474],\n",
       "       [0.40014619, 0.64621696],\n",
       "       [0.49692579, 0.71141319],\n",
       "       [0.67558735, 0.74605202],\n",
       "       [0.51992531, 0.65145986],\n",
       "       [0.67484287, 0.71531238],\n",
       "       [0.46781853, 0.76424504],\n",
       "       [0.71395801, 0.81662271],\n",
       "       [0.82678716, 0.74824614],\n",
       "       [0.6066466 , 0.52892273],\n",
       "       [0.4654154 , 0.46261939],\n",
       "       [0.49057794, 0.63852498],\n",
       "       [0.4870026 , 0.64536575],\n",
       "       [0.58296172, 0.6012456 ],\n",
       "       [0.58534823, 0.78684566],\n",
       "       [0.46899442, 0.77462419],\n",
       "       [0.46610949, 0.61613814],\n",
       "       [0.44142074, 0.64343507],\n",
       "       [0.75344205, 0.85578014],\n",
       "       [0.58295525, 0.48044778]])"
      ]
     },
     "execution_count": 45,
     "metadata": {},
     "output_type": "execute_result"
    }
   ],
   "source": [
    "VA_values_SVR = partCSV('... .csv',svr_valence.findVA(),svr_arousal.findVA())\n",
    "VA_values_SVR.saveCSV()\n",
    "VA_values_SVR.readCSV()"
   ]
  },
  {
   "cell_type": "code",
   "execution_count": 46,
   "metadata": {},
   "outputs": [],
   "source": [
    "class annotationsSVR:\n",
    "    \n",
    "    def __init__(self,null):\n",
    "        self.null = null\n",
    "    \n",
    "    def findVA(self):\n",
    "        annotations_spotify = []\n",
    "        plt.grid()\n",
    "        \n",
    "        VA = VA_values_SVR.readCSV()\n",
    "        for i in range(len(VA)):\n",
    "            value_val_test = VA[:,-2] \n",
    "            value_arou_test = VA[:,-1]\n",
    "            if value_val_test[i] > 0.5 and value_arou_test[i] > 0.5 : # Happy\n",
    "                anno = 'Happy'\n",
    "                happy_plot = plt.scatter(value_val_test[i],value_arou_test[i],\n",
    "                                         color = 'green',label='Happy')\n",
    "            \n",
    "        \n",
    "            elif value_val_test[i] > 0.5 and value_arou_test[i] < 0.5 : # Peaceful\n",
    "                anno = 'Peaceful'\n",
    "                peaceful_plot = plt.scatter(value_val_test[i],value_arou_test[i],\n",
    "                                            color = 'blue',label='Peaceful')\n",
    "                \n",
    "        \n",
    "            elif value_val_test[i] < 0.5 and value_arou_test[i] > 0.5 : # Angry\n",
    "                anno = 'Excited'\n",
    "                excited_plot = plt.scatter(value_val_test[i],value_arou_test[i],\n",
    "                                           color = 'red',label='Excited')\n",
    "                \n",
    "        \n",
    "            elif value_val_test[i] < 0.5 and value_arou_test[i] < 0.5 : # Sad\n",
    "                anno = 'Sad'\n",
    "                sad_plot = plt.scatter(value_val_test[i],value_arou_test[i],\n",
    "                                       color = 'black',label='Sad')\n",
    "                \n",
    "        \n",
    "            else :\n",
    "                print ('None')\n",
    "        \n",
    "            annotations_spotify.append(anno)\n",
    "        #plt.legend(handles=[happy_plot,sad_plot],loc=)\n",
    "            plt.xlim(-0.1,1.12)\n",
    "            plt.ylim(-0.1,1.12)\n",
    "            plt.axvline(x=0.5, ymin=0,ymax=1,color = 'black',lw=1)\n",
    "            plt.axhline(y=0.5, xmin=0,xmax=1,color = 'black',lw=1)\n",
    "            #plt.title('VA Model of Thai songs(Spotify)')\n",
    "            plt.xlabel('Valence')\n",
    "            plt.ylabel('Arousal(Energy)')\n",
    "            plt.title('Support vector regression')\n",
    "        \n",
    "        return annotations_spotify"
   ]
  },
  {
   "cell_type": "code",
   "execution_count": 47,
   "metadata": {},
   "outputs": [
    {
     "data": {
      "text/plain": [
       "['Sad',\n",
       " 'Happy',\n",
       " 'Excited',\n",
       " 'Happy',\n",
       " 'Happy',\n",
       " 'Happy',\n",
       " 'Happy',\n",
       " 'Excited',\n",
       " 'Happy',\n",
       " 'Happy',\n",
       " 'Happy',\n",
       " 'Happy',\n",
       " 'Excited',\n",
       " 'Excited',\n",
       " 'Happy',\n",
       " 'Happy',\n",
       " 'Happy',\n",
       " 'Excited',\n",
       " 'Happy',\n",
       " 'Happy',\n",
       " 'Happy',\n",
       " 'Sad',\n",
       " 'Excited',\n",
       " 'Excited',\n",
       " 'Happy',\n",
       " 'Happy',\n",
       " 'Excited',\n",
       " 'Excited',\n",
       " 'Excited',\n",
       " 'Happy',\n",
       " 'Peaceful']"
      ]
     },
     "execution_count": 47,
     "metadata": {},
     "output_type": "execute_result"
    },
    {
     "data": {
      "image/png": "[encoded data removed]",
      "text/plain": [
       "<matplotlib.figure.Figure at 0x171d6be0>"
      ]
     },
     "metadata": {},
     "output_type": "display_data"
    }
   ],
   "source": [
    "annotationsSVR = annotationsSVR(1)\n",
    "annotationsSVR.findVA()"
   ]
  },
  {
   "cell_type": "code",
   "execution_count": 50,
   "metadata": {},
   "outputs": [
    {
     "data": {
      "image/png": "[encoded data removed]",
      "text/plain": [
       "<matplotlib.figure.Figure at 0x188dda58>"
      ]
     },
     "metadata": {},
     "output_type": "display_data"
    }
   ],
   "source": [
    "# set width of bar\n",
    "barWidth = 0.25\n",
    "\n",
    "mlr = [61.29, 65, 61, 60]\n",
    "svr = [58.06, 57, 58, 57]\n",
    "\n",
    " \n",
    "# Set position of bar on X axis\n",
    "r1 = np.arange(len(mlr))\n",
    "r2 = [x + barWidth for x in r1]\n",
    "r3 = [x + barWidth for x in r2]\n",
    "\n",
    "plt.figure(figsize=(10,9))\n",
    "# Make the plot\n",
    "bar1 = plt.bar(r1, mlr, color='#87CEEB', width=barWidth, edgecolor='white', label='MLR')\n",
    "bar2 = plt.bar(r2, svr, color='#F4A460', width=barWidth, edgecolor='white', label='SVR')\n",
    "\n",
    "for rect in bar1 + bar2:\n",
    "    height = rect.get_height()\n",
    "    plt.text(rect.get_x() + rect.get_width()/1.8, height, '%.2f' % float(height) + '%', ha='center', va='bottom')\n",
    "\n",
    "# Add xticks on the middle of the group bars\n",
    "#plt.xlabel('Performance measurement', fontweight='bold')\n",
    "plt.locator_params(axis='y',nbins=5)\n",
    "#yticks = ['0','','20','','40','','60','80']\n",
    "#plt.yticks(range(80))\n",
    "plt.xticks([r + 0.12 for r in range(len(mlr))], ['Accuracy', 'Precision', 'Recall', 'F-measure'],)\n",
    "plt.locator_params\n",
    "plt.legend()\n",
    "plt.show()\n",
    "\n"
   ]
  }
 ],
 "metadata": {
  "kernelspec": {
   "display_name": "Python 2",
   "language": "python",
   "name": "python2"
  },
  "language_info": {
   "codemirror_mode": {
    "name": "ipython",
    "version": 2
   },
   "file_extension": ".py",
   "mimetype": "text/x-python",
   "name": "python",
   "nbconvert_exporter": "python",
   "pygments_lexer": "ipython2",
   "version": "2.7.15"
  }
 },
 "nbformat": 4,
 "nbformat_minor": 2
}
