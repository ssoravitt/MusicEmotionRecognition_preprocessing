{
 "cells": [
  {
   "cell_type": "markdown",
   "metadata": {},
   "source": [
    "## Mel-frequency ceptrums"
   ]
  },
  {
   "cell_type": "code",
   "execution_count": null,
   "metadata": {},
   "outputs": [],
   "source": [
    "import numpy as np\n",
    "import librosa\n",
    "import matplotlib.pyplot as plt\n",
    "import ntpath\n",
    "import csv\n",
    "%matplotlib inline"
   ]
  },
  {
   "cell_type": "markdown",
   "metadata": {},
   "source": [
    "## Function mfcc_songs\n",
    "\n",
    "#### - All songs in folder\n",
    "#### - Collect the 13 average of MFCCs"
   ]
  },
  {
   "cell_type": "code",
   "execution_count": 2,
   "metadata": {},
   "outputs": [],
   "source": [
    "def mfccs_songs(file_path):\n",
    "    files = librosa.util.find_files(file_path,recurse=False,case_sensitive=True)\n",
    "    mean_data = []\n",
    "    mfccs_data = []\n",
    "    mfccs_0 = []\n",
    "    mfccs_1 = []\n",
    "    mfccs_2 = []\n",
    "    mfccs_3 = []\n",
    "    mfccs_4 = []\n",
    "    mfccs_5 = []\n",
    "    mfccs_6 = []\n",
    "    mfccs_7 = []\n",
    "    mfccs_8 = []\n",
    "    mfccs_9 = []\n",
    "    mfccs_10 = []\n",
    "    mfccs_11 = []\n",
    "    mfccs_12 = []\n",
    "\n",
    "    id_song = []\n",
    "    \n",
    "    for i in (range(len(files))) :\n",
    "        if i <= len(files):\n",
    "            song, sr = librosa.load(files[i])\n",
    "            mfccs = librosa.feature.mfcc(song, sr=sr,n_mfcc=13)\n",
    "            mfccs_data.append(mfccs)\n",
    "        \n",
    "            mfccs0 = np.mean(mfccs_data[i][0])\n",
    "            mfccs_0.append(mfccs0)\n",
    "            mfccs1 = np.mean(mfccs_data[i][1])\n",
    "            mfccs_1.append(mfccs1)\n",
    "            mfccs2 = np.mean(mfccs_data[i][2])\n",
    "            mfccs_2.append(mfccs2)\n",
    "            mfccs3 = np.mean(mfccs_data[i][3])\n",
    "            mfccs_3.append(mfccs3)\n",
    "            mfccs4 = np.mean(mfccs_data[i][4])\n",
    "            mfccs_4.append(mfccs4)\n",
    "            mfccs5 = np.mean(mfccs_data[i][5])\n",
    "            mfccs_5.append(mfccs5)\n",
    "            mfccs6 = np.mean(mfccs_data[i][6])\n",
    "            mfccs_6.append(mfccs6)\n",
    "            mfccs7 = np.mean(mfccs_data[i][7])\n",
    "            mfccs_7.append(mfccs7)\n",
    "            mfccs8 = np.mean(mfccs_data[i][8])\n",
    "            mfccs_8.append(mfccs8)\n",
    "            mfccs9 = np.mean(mfccs_data[i][9])\n",
    "            mfccs_9.append(mfccs9)\n",
    "            mfccs10 = np.mean(mfccs_data[i][10])\n",
    "            mfccs_10.append(mfccs10)\n",
    "            mfccs11 = np.mean(mfccs_data[i][11])\n",
    "            mfccs_11.append(mfccs11)\n",
    "            mfccs12 = np.mean(mfccs_data[i][12])\n",
    "            mfccs_12.append(mfccs12)\n",
    "        \n",
    "            \n",
    "            song_id = ntpath.basename(files[i])\n",
    "            id_song.append(song_id)\n",
    "    \n",
    "    datazip = zip(id_song,mfccs_0,mfccs_1,mfccs_2,mfccs_3,mfccs_4,\n",
    "                  mfccs_5,mfccs_6,mfccs_7,mfccs_8,mfccs_9,mfccs_10,\n",
    "                  mfccs_11,mfccs_12)\n",
    "    \n",
    "    with open('Mfccs.csv,'wb') as f:\n",
    "        fw = csv.writer(f)\n",
    "        fw.writerow([\"Song_ID\",\"Mfccs[1]\",\"Mfccs[2]\",\"Mfccs[3]\",\"Mfccs[4]\",\n",
    "                     \"Mfccs[5]\",\"Mfccs[6]\",\"Mfccs[7]\",\"Mfccs[8]\",\"Mfccs[9]\",\n",
    "                     \"Mfccs[10]\",\"Mfccs[11]\",\"Mfccs[12]\",\"Mfccs[13]\"])   \n",
    "        fw.writerows(datazip)    \n",
    "\n",
    "                             \n",
    "    print ('Finish')\n",
    "    #return mfccs_0, mfccs_1, mfccs_2\n"
   ]
  }
 ],
 "metadata": {
  "kernelspec": {
   "display_name": "Python 2",
   "language": "python",
   "name": "python2"
  },
  "language_info": {
   "codemirror_mode": {
    "name": "ipython",
    "version": 2
   },
   "file_extension": ".py",
   "mimetype": "text/x-python",
   "name": "python",
   "nbconvert_exporter": "python",
   "pygments_lexer": "ipython2",
   "version": "2.7.15"
  }
 },
 "nbformat": 4,
 "nbformat_minor": 2
}
